{
 "cells": [
  {
   "cell_type": "code",
   "execution_count": 22,
   "id": "cc7962a6",
   "metadata": {},
   "outputs": [
    {
     "data": {
      "text/plain": [
       "'SageMath version 10.1, Release Date: 2023-08-20'"
      ]
     },
     "execution_count": 22,
     "metadata": {},
     "output_type": "execute_result"
    }
   ],
   "source": [
    "version()"
   ]
  },
  {
   "cell_type": "code",
   "execution_count": 23,
   "id": "e28dcd7b",
   "metadata": {},
   "outputs": [],
   "source": [
    "%display latex"
   ]
  },
  {
   "cell_type": "code",
   "execution_count": 24,
   "id": "dd900011",
   "metadata": {},
   "outputs": [],
   "source": [
    "M = Manifold(4, 'M', r'\\mathcal{M}', structure='Lorentzian')"
   ]
  },
  {
   "cell_type": "code",
   "execution_count": 25,
   "id": "7ea0de97",
   "metadata": {},
   "outputs": [],
   "source": [
    "m = var('m') ; assume(m>=0)"
   ]
  },
  {
   "cell_type": "code",
   "execution_count": 26,
   "id": "7f90dd70",
   "metadata": {},
   "outputs": [],
   "source": [
    "X.<t,r,th,ph> = M.chart(r't r:(0,+oo) th:(0,pi):\\theta ph:(0,2*pi):\\phi')"
   ]
  },
  {
   "cell_type": "code",
   "execution_count": 27,
   "id": "54a5ba86",
   "metadata": {},
   "outputs": [
    {
     "name": "stdout",
     "output_type": "stream",
     "text": [
      "Chart (M, (t, r, th, ph))\n"
     ]
    }
   ],
   "source": [
    "print(X)"
   ]
  },
  {
   "cell_type": "code",
   "execution_count": 28,
   "id": "4c42d79f",
   "metadata": {},
   "outputs": [
    {
     "name": "stderr",
     "output_type": "stream",
     "text": [
      "Fontconfig warning: ignoring UTF-8: not a valid region tag\n"
     ]
    },
    {
     "data": {
      "text/html": [
       "<html>\\(\\displaystyle \\left(\\mathcal{M},(t, r, {\\theta}, {\\phi})\\right)\\)</html>"
      ],
      "text/latex": [
       "$\\displaystyle \\left(\\mathcal{M},(t, r, {\\theta}, {\\phi})\\right)$"
      ],
      "text/plain": [
       "Chart (M, (t, r, th, ph))"
      ]
     },
     "execution_count": 28,
     "metadata": {},
     "output_type": "execute_result"
    }
   ],
   "source": [
    "X"
   ]
  },
  {
   "cell_type": "code",
   "execution_count": 29,
   "id": "b494c489",
   "metadata": {},
   "outputs": [
    {
     "data": {
      "text/html": [
       "<html>\\(\\displaystyle \\left[\\left(\\mathcal{M}, \\left(\\frac{\\partial}{\\partial t },\\frac{\\partial}{\\partial r },\\frac{\\partial}{\\partial {\\theta} },\\frac{\\partial}{\\partial {\\phi} }\\right)\\right)\\right]\\)</html>"
      ],
      "text/latex": [
       "$\\displaystyle \\left[\\left(\\mathcal{M}, \\left(\\frac{\\partial}{\\partial t },\\frac{\\partial}{\\partial r },\\frac{\\partial}{\\partial {\\theta} },\\frac{\\partial}{\\partial {\\phi} }\\right)\\right)\\right]$"
      ],
      "text/plain": [
       "[Coordinate frame (M, (∂/∂t,∂/∂r,∂/∂th,∂/∂ph))]"
      ]
     },
     "execution_count": 29,
     "metadata": {},
     "output_type": "execute_result"
    }
   ],
   "source": [
    "M.frames()"
   ]
  },
  {
   "cell_type": "code",
   "execution_count": 30,
   "id": "2b34252e",
   "metadata": {},
   "outputs": [
    {
     "name": "stdout",
     "output_type": "stream",
     "text": [
      "Lorentzian metric g on the 4-dimensional Lorentzian manifold M\n"
     ]
    }
   ],
   "source": [
    "g = M.metric()\n",
    "print(g)"
   ]
  },
  {
   "cell_type": "code",
   "execution_count": 31,
   "id": "c909e37a",
   "metadata": {},
   "outputs": [],
   "source": [
    "g[0,0], g[1,1] = -(1-2*m/r), 1/(1-2*m/r)\n",
    "g[2,2], g[3,3] = r^2, (r*sin(th))^2"
   ]
  },
  {
   "cell_type": "code",
   "execution_count": 32,
   "id": "1e21158f",
   "metadata": {},
   "outputs": [
    {
     "data": {
      "text/html": [
       "<html>\\(\\displaystyle g = \\left( \\frac{2 \\, m}{r} - 1 \\right) \\mathrm{d} t\\otimes \\mathrm{d} t + \\left( -\\frac{1}{\\frac{2 \\, m}{r} - 1} \\right) \\mathrm{d} r\\otimes \\mathrm{d} r + r^{2} \\mathrm{d} {\\theta}\\otimes \\mathrm{d} {\\theta} + r^{2} \\sin\\left({\\theta}\\right)^{2} \\mathrm{d} {\\phi}\\otimes \\mathrm{d} {\\phi}\\)</html>"
      ],
      "text/latex": [
       "$\\displaystyle g = \\left( \\frac{2 \\, m}{r} - 1 \\right) \\mathrm{d} t\\otimes \\mathrm{d} t + \\left( -\\frac{1}{\\frac{2 \\, m}{r} - 1} \\right) \\mathrm{d} r\\otimes \\mathrm{d} r + r^{2} \\mathrm{d} {\\theta}\\otimes \\mathrm{d} {\\theta} + r^{2} \\sin\\left({\\theta}\\right)^{2} \\mathrm{d} {\\phi}\\otimes \\mathrm{d} {\\phi}$"
      ],
      "text/plain": [
       "g = (2*m/r - 1) dt⊗dt - 1/(2*m/r - 1) dr⊗dr + r^2 dth⊗dth + r^2*sin(th)^2 dph⊗dph"
      ]
     },
     "execution_count": 32,
     "metadata": {},
     "output_type": "execute_result"
    }
   ],
   "source": [
    "g.display()"
   ]
  },
  {
   "cell_type": "code",
   "execution_count": 38,
   "id": "f524f53f",
   "metadata": {},
   "outputs": [],
   "source": [
    "e0 = M.vector_field(sqrt(1 - 2*m/r), 0, 0, 0)"
   ]
  },
  {
   "cell_type": "code",
   "execution_count": 39,
   "id": "50e57611",
   "metadata": {},
   "outputs": [],
   "source": [
    "e1 = M.vector_field(0, 1 / (1 - 2*m/r), 0, 0)"
   ]
  },
  {
   "cell_type": "code",
   "execution_count": 40,
   "id": "971f7413",
   "metadata": {},
   "outputs": [],
   "source": [
    "e2 = M.vector_field(0, 0, r, 0)"
   ]
  },
  {
   "cell_type": "code",
   "execution_count": 41,
   "id": "e6a67154",
   "metadata": {},
   "outputs": [],
   "source": [
    "e3 = M.vector_field(0, 0, 0, r * sin(ph))"
   ]
  },
  {
   "cell_type": "code",
   "execution_count": 42,
   "id": "6748ab3e",
   "metadata": {},
   "outputs": [],
   "source": [
    "e = M.vector_frame('e', (e0, e1, e2, e3))"
   ]
  },
  {
   "cell_type": "code",
   "execution_count": 43,
   "id": "ca5ec92f",
   "metadata": {},
   "outputs": [
    {
     "data": {
      "text/html": [
       "<html>\\(\\displaystyle \\left(\\mathcal{M}, \\left(e_{0},e_{1},e_{2},e_{3}\\right)\\right)\\)</html>"
      ],
      "text/latex": [
       "$\\displaystyle \\left(\\mathcal{M}, \\left(e_{0},e_{1},e_{2},e_{3}\\right)\\right)$"
      ],
      "text/plain": [
       "Vector frame (M, (e_0,e_1,e_2,e_3))"
      ]
     },
     "execution_count": 43,
     "metadata": {},
     "output_type": "execute_result"
    }
   ],
   "source": [
    "e"
   ]
  },
  {
   "cell_type": "code",
   "execution_count": 44,
   "id": "961ca850",
   "metadata": {},
   "outputs": [
    {
     "data": {
      "text/html": [
       "<html>\\(\\displaystyle \\left[\\left(\\mathcal{M}, \\left(\\frac{\\partial}{\\partial t },\\frac{\\partial}{\\partial r },\\frac{\\partial}{\\partial {\\theta} },\\frac{\\partial}{\\partial {\\phi} }\\right)\\right), \\left(\\mathcal{M}, \\left(e_{0},e_{1},e_{2},e_{3}\\right)\\right)\\right]\\)</html>"
      ],
      "text/latex": [
       "$\\displaystyle \\left[\\left(\\mathcal{M}, \\left(\\frac{\\partial}{\\partial t },\\frac{\\partial}{\\partial r },\\frac{\\partial}{\\partial {\\theta} },\\frac{\\partial}{\\partial {\\phi} }\\right)\\right), \\left(\\mathcal{M}, \\left(e_{0},e_{1},e_{2},e_{3}\\right)\\right)\\right]$"
      ],
      "text/plain": [
       "[Coordinate frame (M, (∂/∂t,∂/∂r,∂/∂th,∂/∂ph)),\n",
       " Vector frame (M, (e_0,e_1,e_2,e_3))]"
      ]
     },
     "execution_count": 44,
     "metadata": {},
     "output_type": "execute_result"
    }
   ],
   "source": [
    "M.frames()"
   ]
  },
  {
   "cell_type": "code",
   "execution_count": null,
   "id": "a774c99a",
   "metadata": {},
   "outputs": [],
   "source": []
  }
 ],
 "metadata": {
  "kernelspec": {
   "display_name": "SageMath 10.1",
   "language": "sage",
   "name": "sagemath"
  },
  "language_info": {
   "codemirror_mode": {
    "name": "ipython",
    "version": 3
   },
   "file_extension": ".py",
   "mimetype": "text/x-python",
   "name": "python",
   "nbconvert_exporter": "python",
   "pygments_lexer": "ipython3",
   "version": "3.11.1"
  }
 },
 "nbformat": 4,
 "nbformat_minor": 5
}
