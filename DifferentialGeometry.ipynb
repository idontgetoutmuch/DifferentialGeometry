{
 "cells": [
  {
   "cell_type": "code",
   "execution_count": 2,
   "id": "c4832a70",
   "metadata": {},
   "outputs": [
    {
     "data": {
      "text/plain": [
       "'SageMath version 10.2, Release Date: 2023-12-03'"
      ]
     },
     "execution_count": 2,
     "metadata": {},
     "output_type": "execute_result"
    }
   ],
   "source": [
    "version()"
   ]
  },
  {
   "cell_type": "code",
   "execution_count": null,
   "id": "1cd9e9fa",
   "metadata": {},
   "outputs": [],
   "source": []
  },
  {
   "cell_type": "code",
   "execution_count": 3,
   "id": "90ec5259",
   "metadata": {},
   "outputs": [],
   "source": [
    "%display latex"
   ]
  },
  {
   "cell_type": "code",
   "execution_count": 4,
   "id": "9e33ad02",
   "metadata": {},
   "outputs": [],
   "source": [
    "M = Manifold(4, 'M', r'\\mathcal{M}', structure='Lorentzian')"
   ]
  },
  {
   "cell_type": "code",
   "execution_count": 5,
   "id": "1d8437f5",
   "metadata": {},
   "outputs": [],
   "source": [
    "m = var('m') ; assume(m>=0)"
   ]
  },
  {
   "cell_type": "code",
   "execution_count": 6,
   "id": "39774515",
   "metadata": {},
   "outputs": [],
   "source": [
    "X.<t,r,th,ph> = M.chart(r't r:(0,+oo) th:(0,pi):\\theta ph:(0,2*pi):\\phi')"
   ]
  },
  {
   "cell_type": "code",
   "execution_count": 7,
   "id": "bf95c4c2",
   "metadata": {},
   "outputs": [
    {
     "name": "stdout",
     "output_type": "stream",
     "text": [
      "Chart (M, (t, r, th, ph))\n"
     ]
    }
   ],
   "source": [
    "print(X)"
   ]
  },
  {
   "cell_type": "code",
   "execution_count": 8,
   "id": "d97c674e",
   "metadata": {},
   "outputs": [
    {
     "name": "stderr",
     "output_type": "stream",
     "text": [
      "Fontconfig warning: ignoring UTF-8: not a valid region tag\n",
      "Matplotlib is building the font cache; this may take a moment.\n"
     ]
    },
    {
     "data": {
      "text/html": [
       "<html>\\(\\displaystyle \\left(\\mathcal{M},(t, r, {\\theta}, {\\phi})\\right)\\)</html>"
      ],
      "text/latex": [
       "$\\displaystyle \\left(\\mathcal{M},(t, r, {\\theta}, {\\phi})\\right)$"
      ],
      "text/plain": [
       "Chart (M, (t, r, th, ph))"
      ]
     },
     "execution_count": 8,
     "metadata": {},
     "output_type": "execute_result"
    }
   ],
   "source": [
    "X"
   ]
  },
  {
   "cell_type": "code",
   "execution_count": 9,
   "id": "b84dfea1",
   "metadata": {},
   "outputs": [
    {
     "data": {
      "text/html": [
       "<html>\\(\\displaystyle \\left[\\left(\\mathcal{M}, \\left(\\frac{\\partial}{\\partial t },\\frac{\\partial}{\\partial r },\\frac{\\partial}{\\partial {\\theta} },\\frac{\\partial}{\\partial {\\phi} }\\right)\\right)\\right]\\)</html>"
      ],
      "text/latex": [
       "$\\displaystyle \\left[\\left(\\mathcal{M}, \\left(\\frac{\\partial}{\\partial t },\\frac{\\partial}{\\partial r },\\frac{\\partial}{\\partial {\\theta} },\\frac{\\partial}{\\partial {\\phi} }\\right)\\right)\\right]$"
      ],
      "text/plain": [
       "[Coordinate frame (M, (∂/∂t,∂/∂r,∂/∂th,∂/∂ph))]"
      ]
     },
     "execution_count": 9,
     "metadata": {},
     "output_type": "execute_result"
    }
   ],
   "source": [
    "M.frames()"
   ]
  },
  {
   "cell_type": "code",
   "execution_count": 10,
   "id": "4d09b6a2",
   "metadata": {},
   "outputs": [
    {
     "name": "stdout",
     "output_type": "stream",
     "text": [
      "Lorentzian metric g on the 4-dimensional Lorentzian manifold M\n"
     ]
    }
   ],
   "source": [
    "g = M.metric()\n",
    "print(g)"
   ]
  },
  {
   "cell_type": "code",
   "execution_count": 11,
   "id": "8c974af5",
   "metadata": {},
   "outputs": [],
   "source": [
    "g[0,0], g[1,1] = -(1-2*m/r), 1/(1-2*m/r)\n",
    "g[2,2], g[3,3] = r^2, (r*sin(th))^2"
   ]
  },
  {
   "cell_type": "code",
   "execution_count": 12,
   "id": "0ecb551b",
   "metadata": {},
   "outputs": [
    {
     "data": {
      "text/html": [
       "<html>\\(\\displaystyle g = \\left( \\frac{2 \\, m}{r} - 1 \\right) \\mathrm{d} t\\otimes \\mathrm{d} t + \\left( -\\frac{1}{\\frac{2 \\, m}{r} - 1} \\right) \\mathrm{d} r\\otimes \\mathrm{d} r + r^{2} \\mathrm{d} {\\theta}\\otimes \\mathrm{d} {\\theta} + r^{2} \\sin\\left({\\theta}\\right)^{2} \\mathrm{d} {\\phi}\\otimes \\mathrm{d} {\\phi}\\)</html>"
      ],
      "text/latex": [
       "$\\displaystyle g = \\left( \\frac{2 \\, m}{r} - 1 \\right) \\mathrm{d} t\\otimes \\mathrm{d} t + \\left( -\\frac{1}{\\frac{2 \\, m}{r} - 1} \\right) \\mathrm{d} r\\otimes \\mathrm{d} r + r^{2} \\mathrm{d} {\\theta}\\otimes \\mathrm{d} {\\theta} + r^{2} \\sin\\left({\\theta}\\right)^{2} \\mathrm{d} {\\phi}\\otimes \\mathrm{d} {\\phi}$"
      ],
      "text/plain": [
       "g = (2*m/r - 1) dt⊗dt - 1/(2*m/r - 1) dr⊗dr + r^2 dth⊗dth + r^2*sin(th)^2 dph⊗dph"
      ]
     },
     "execution_count": 12,
     "metadata": {},
     "output_type": "execute_result"
    }
   ],
   "source": [
    "g.display()"
   ]
  },
  {
   "cell_type": "code",
   "execution_count": 13,
   "id": "98bbdf9b",
   "metadata": {},
   "outputs": [],
   "source": [
    "e0 = M.vector_field(1/sqrt(-(1-2*m/r)), 0, 0, 0)"
   ]
  },
  {
   "cell_type": "code",
   "execution_count": 14,
   "id": "163aa2c8",
   "metadata": {},
   "outputs": [],
   "source": [
    "e1 = M.vector_field(0, 1/sqrt(1/(1-2*m/r)), 0, 0)"
   ]
  },
  {
   "cell_type": "code",
   "execution_count": 15,
   "id": "dd146d01",
   "metadata": {},
   "outputs": [],
   "source": [
    "e2 = M.vector_field(0, 0, 1/r, 0)"
   ]
  },
  {
   "cell_type": "code",
   "execution_count": 16,
   "id": "9cda41a1",
   "metadata": {},
   "outputs": [],
   "source": [
    "e3 = M.vector_field(0, 0, 0, 1/(r * sin(th)))"
   ]
  },
  {
   "cell_type": "code",
   "execution_count": 17,
   "id": "d2f5e4dd",
   "metadata": {},
   "outputs": [],
   "source": [
    "e = M.vector_frame('e', (e0, e1, e2, e3))"
   ]
  },
  {
   "cell_type": "code",
   "execution_count": 18,
   "id": "a704990a",
   "metadata": {},
   "outputs": [
    {
     "data": {
      "text/html": [
       "<html>\\(\\displaystyle \\left(\\mathcal{M}, \\left(e_{0},e_{1},e_{2},e_{3}\\right)\\right)\\)</html>"
      ],
      "text/latex": [
       "$\\displaystyle \\left(\\mathcal{M}, \\left(e_{0},e_{1},e_{2},e_{3}\\right)\\right)$"
      ],
      "text/plain": [
       "Vector frame (M, (e_0,e_1,e_2,e_3))"
      ]
     },
     "execution_count": 18,
     "metadata": {},
     "output_type": "execute_result"
    }
   ],
   "source": [
    "e"
   ]
  },
  {
   "cell_type": "code",
   "execution_count": 19,
   "id": "09b91218",
   "metadata": {},
   "outputs": [
    {
     "data": {
      "text/html": [
       "<html>\\(\\displaystyle \\left[\\left(\\mathcal{M}, \\left(\\frac{\\partial}{\\partial t },\\frac{\\partial}{\\partial r },\\frac{\\partial}{\\partial {\\theta} },\\frac{\\partial}{\\partial {\\phi} }\\right)\\right), \\left(\\mathcal{M}, \\left(e_{0},e_{1},e_{2},e_{3}\\right)\\right)\\right]\\)</html>"
      ],
      "text/latex": [
       "$\\displaystyle \\left[\\left(\\mathcal{M}, \\left(\\frac{\\partial}{\\partial t },\\frac{\\partial}{\\partial r },\\frac{\\partial}{\\partial {\\theta} },\\frac{\\partial}{\\partial {\\phi} }\\right)\\right), \\left(\\mathcal{M}, \\left(e_{0},e_{1},e_{2},e_{3}\\right)\\right)\\right]$"
      ],
      "text/plain": [
       "[Coordinate frame (M, (∂/∂t,∂/∂r,∂/∂th,∂/∂ph)),\n",
       " Vector frame (M, (e_0,e_1,e_2,e_3))]"
      ]
     },
     "execution_count": 19,
     "metadata": {},
     "output_type": "execute_result"
    }
   ],
   "source": [
    "M.frames()"
   ]
  },
  {
   "cell_type": "code",
   "execution_count": 20,
   "id": "d34a52fa",
   "metadata": {},
   "outputs": [
    {
     "data": {
      "text/html": [
       "<html>\\(\\displaystyle g = e^{0}\\otimes e^{0}+e^{1}\\otimes e^{1}+e^{2}\\otimes e^{2}+e^{3}\\otimes e^{3}\\)</html>"
      ],
      "text/latex": [
       "$\\displaystyle g = e^{0}\\otimes e^{0}+e^{1}\\otimes e^{1}+e^{2}\\otimes e^{2}+e^{3}\\otimes e^{3}$"
      ],
      "text/plain": [
       "g = e^0⊗e^0 + e^1⊗e^1 + e^2⊗e^2 + e^3⊗e^3"
      ]
     },
     "execution_count": 20,
     "metadata": {},
     "output_type": "execute_result"
    }
   ],
   "source": [
    "g.display(e)"
   ]
  },
  {
   "cell_type": "code",
   "execution_count": 21,
   "id": "6f2e01d1",
   "metadata": {},
   "outputs": [],
   "source": [
    "f = e.coframe()"
   ]
  },
  {
   "cell_type": "code",
   "execution_count": 22,
   "id": "c5a49697",
   "metadata": {},
   "outputs": [
    {
     "name": "stdout",
     "output_type": "stream",
     "text": [
      "Coframe (M, (e^0,e^1,e^2,e^3))\n"
     ]
    }
   ],
   "source": [
    "print(f)"
   ]
  },
  {
   "cell_type": "code",
   "execution_count": 23,
   "id": "6af7b525",
   "metadata": {},
   "outputs": [
    {
     "data": {
      "text/html": [
       "<html>\\(\\displaystyle \\left[\\left(\\mathcal{M}, \\left(\\mathrm{d} t,\\mathrm{d} r,\\mathrm{d} {\\theta},\\mathrm{d} {\\phi}\\right)\\right), \\left(\\mathcal{M}, \\left(e^{0},e^{1},e^{2},e^{3}\\right)\\right)\\right]\\)</html>"
      ],
      "text/latex": [
       "$\\displaystyle \\left[\\left(\\mathcal{M}, \\left(\\mathrm{d} t,\\mathrm{d} r,\\mathrm{d} {\\theta},\\mathrm{d} {\\phi}\\right)\\right), \\left(\\mathcal{M}, \\left(e^{0},e^{1},e^{2},e^{3}\\right)\\right)\\right]$"
      ],
      "text/plain": [
       "[Coordinate coframe (M, (dt,dr,dth,dph)), Coframe (M, (e^0,e^1,e^2,e^3))]"
      ]
     },
     "execution_count": 23,
     "metadata": {},
     "output_type": "execute_result"
    }
   ],
   "source": [
    "M.coframes()"
   ]
  },
  {
   "cell_type": "code",
   "execution_count": 48,
   "id": "5955e51d",
   "metadata": {},
   "outputs": [],
   "source": [
    "a = M.one_form(sqrt(-(1-2*m/r)), 0, 0, 0, name='a')\n",
    "b = M.one_form(0, sqrt(1/(1-2*m/r)), 0, 0, name = 'b')\n",
    "c = M.one_form(0, 0, r, 0, name = 'c')\n",
    "d = M.one_form(0, 0, 0, r * sin(th), name = 'd')"
   ]
  },
  {
   "cell_type": "code",
   "execution_count": 49,
   "id": "1636201a",
   "metadata": {},
   "outputs": [],
   "source": [
    "e = a + b + c + d"
   ]
  },
  {
   "cell_type": "code",
   "execution_count": 50,
   "id": "f0cc1af4",
   "metadata": {},
   "outputs": [
    {
     "data": {
      "text/html": [
       "<html>\\(\\displaystyle a+b+c+d = \\left( \\sqrt{\\frac{2 \\, m}{r} - 1} \\right) \\mathrm{d} t + \\left( \\sqrt{-\\frac{1}{\\frac{2 \\, m}{r} - 1}} \\right) \\mathrm{d} r + r \\mathrm{d} {\\theta} + r \\sin\\left({\\theta}\\right) \\mathrm{d} {\\phi}\\)</html>"
      ],
      "text/latex": [
       "$\\displaystyle a+b+c+d = \\left( \\sqrt{\\frac{2 \\, m}{r} - 1} \\right) \\mathrm{d} t + \\left( \\sqrt{-\\frac{1}{\\frac{2 \\, m}{r} - 1}} \\right) \\mathrm{d} r + r \\mathrm{d} {\\theta} + r \\sin\\left({\\theta}\\right) \\mathrm{d} {\\phi}$"
      ],
      "text/plain": [
       "a+b+c+d = sqrt(2*m/r - 1) dt + sqrt(-1/(2*m/r - 1)) dr + r dth + r*sin(th) dph"
      ]
     },
     "execution_count": 50,
     "metadata": {},
     "output_type": "execute_result"
    }
   ],
   "source": [
    "e.display()"
   ]
  },
  {
   "cell_type": "code",
   "execution_count": 53,
   "id": "8ebd0d8b",
   "metadata": {},
   "outputs": [],
   "source": [
    "h = a*a + b*b + c*c + d*d"
   ]
  },
  {
   "cell_type": "code",
   "execution_count": 55,
   "id": "3e295516",
   "metadata": {},
   "outputs": [
    {
     "data": {
      "text/html": [
       "<html>\\(\\displaystyle a\\otimes a+b\\otimes b+c\\otimes c+d\\otimes d = \\left( \\frac{2 \\, m - r}{r} \\right) \\mathrm{d} t\\otimes \\mathrm{d} t + \\left( -\\frac{r}{2 \\, m - r} \\right) \\mathrm{d} r\\otimes \\mathrm{d} r + r^{2} \\mathrm{d} {\\theta}\\otimes \\mathrm{d} {\\theta} + r^{2} \\sin\\left({\\theta}\\right)^{2} \\mathrm{d} {\\phi}\\otimes \\mathrm{d} {\\phi}\\)</html>"
      ],
      "text/latex": [
       "$\\displaystyle a\\otimes a+b\\otimes b+c\\otimes c+d\\otimes d = \\left( \\frac{2 \\, m - r}{r} \\right) \\mathrm{d} t\\otimes \\mathrm{d} t + \\left( -\\frac{r}{2 \\, m - r} \\right) \\mathrm{d} r\\otimes \\mathrm{d} r + r^{2} \\mathrm{d} {\\theta}\\otimes \\mathrm{d} {\\theta} + r^{2} \\sin\\left({\\theta}\\right)^{2} \\mathrm{d} {\\phi}\\otimes \\mathrm{d} {\\phi}$"
      ],
      "text/plain": [
       "a⊗a+b⊗b+c⊗c+d⊗d = (2*m - r)/r dt⊗dt - r/(2*m - r) dr⊗dr + r^2 dth⊗dth + r^2*sin(th)^2 dph⊗dph"
      ]
     },
     "execution_count": 55,
     "metadata": {},
     "output_type": "execute_result"
    }
   ],
   "source": [
    "h.display()"
   ]
  },
  {
   "cell_type": "code",
   "execution_count": 56,
   "id": "dd8b6b1f",
   "metadata": {},
   "outputs": [],
   "source": [
    "f(r) = sqrt(1 - 2*m / r)"
   ]
  },
  {
   "cell_type": "code",
   "execution_count": 57,
   "id": "88c42e0f",
   "metadata": {},
   "outputs": [
    {
     "data": {
      "text/html": [
       "<html>\\(\\displaystyle r \\ {\\mapsto}\\ \\sqrt{-\\frac{2 \\, m}{r} + 1}\\)</html>"
      ],
      "text/latex": [
       "$\\displaystyle r \\ {\\mapsto}\\ \\sqrt{-\\frac{2 \\, m}{r} + 1}$"
      ],
      "text/plain": [
       "r |--> sqrt(-2*m/r + 1)"
      ]
     },
     "execution_count": 57,
     "metadata": {},
     "output_type": "execute_result"
    }
   ],
   "source": [
    "f"
   ]
  },
  {
   "cell_type": "code",
   "execution_count": 61,
   "id": "3742786b",
   "metadata": {},
   "outputs": [
    {
     "data": {
      "text/html": [
       "<html>\\(\\displaystyle \\mathrm{d}a = \\left( \\frac{m}{\\sqrt{2 \\, m - r} r^{\\frac{3}{2}}} \\right) \\mathrm{d} t\\wedge \\mathrm{d} r\\)</html>"
      ],
      "text/latex": [
       "$\\displaystyle \\mathrm{d}a = \\left( \\frac{m}{\\sqrt{2 \\, m - r} r^{\\frac{3}{2}}} \\right) \\mathrm{d} t\\wedge \\mathrm{d} r$"
      ],
      "text/plain": [
       "da = m/(sqrt(2*m - r)*r^(3/2)) dt∧dr"
      ]
     },
     "execution_count": 61,
     "metadata": {},
     "output_type": "execute_result"
    }
   ],
   "source": [
    "a.exterior_derivative().display()"
   ]
  },
  {
   "cell_type": "code",
   "execution_count": 85,
   "id": "aef6f666",
   "metadata": {},
   "outputs": [],
   "source": [
    "th0 = M.one_form(f(r), 0, 0, 0, name='\\\\theta^0')\n",
    "th1 = M.one_form(0, 1/f(r), 0, 0, name='\\\\theta^1')\n",
    "th2 = M.one_form(0, 0, r, 0, name='\\\\theta^2')\n",
    "th3 = M.one_form(0, 0, 0, r * sin(th), name='\\\\theta^3')"
   ]
  },
  {
   "cell_type": "code",
   "execution_count": 86,
   "id": "c0c5119e",
   "metadata": {},
   "outputs": [
    {
     "data": {
      "text/html": [
       "<html>\\(\\displaystyle \\theta^0 = \\left( \\sqrt{-\\frac{2 \\, m}{r} + 1} \\right) \\mathrm{d} t\\)</html>"
      ],
      "text/latex": [
       "$\\displaystyle \\theta^0 = \\left( \\sqrt{-\\frac{2 \\, m}{r} + 1} \\right) \\mathrm{d} t$"
      ],
      "text/plain": [
       "\\theta^0 = sqrt(-2*m/r + 1) dt"
      ]
     },
     "execution_count": 86,
     "metadata": {},
     "output_type": "execute_result"
    }
   ],
   "source": [
    "th0.display()"
   ]
  },
  {
   "cell_type": "code",
   "execution_count": 87,
   "id": "0e6295cb",
   "metadata": {},
   "outputs": [
    {
     "data": {
      "text/html": [
       "<html>\\(\\displaystyle \\mathrm{d}\\theta^0 = \\left( -\\frac{m}{\\sqrt{-2 \\, m + r} r^{\\frac{3}{2}}} \\right) \\mathrm{d} t\\wedge \\mathrm{d} r\\)</html>"
      ],
      "text/latex": [
       "$\\displaystyle \\mathrm{d}\\theta^0 = \\left( -\\frac{m}{\\sqrt{-2 \\, m + r} r^{\\frac{3}{2}}} \\right) \\mathrm{d} t\\wedge \\mathrm{d} r$"
      ],
      "text/plain": [
       "d\\theta^0 = -m/(sqrt(-2*m + r)*r^(3/2)) dt∧dr"
      ]
     },
     "execution_count": 87,
     "metadata": {},
     "output_type": "execute_result"
    }
   ],
   "source": [
    "th0.exterior_derivative().display()"
   ]
  },
  {
   "cell_type": "code",
   "execution_count": 88,
   "id": "f4a8bd48",
   "metadata": {},
   "outputs": [
    {
     "data": {
      "text/html": [
       "<html>\\(\\displaystyle \\mathrm{d}\\theta^1 = 0\\)</html>"
      ],
      "text/latex": [
       "$\\displaystyle \\mathrm{d}\\theta^1 = 0$"
      ],
      "text/plain": [
       "d\\theta^1 = 0"
      ]
     },
     "execution_count": 88,
     "metadata": {},
     "output_type": "execute_result"
    }
   ],
   "source": [
    "th1.exterior_derivative().display()"
   ]
  },
  {
   "cell_type": "code",
   "execution_count": 89,
   "id": "b5bf3c7b",
   "metadata": {},
   "outputs": [
    {
     "data": {
      "text/html": [
       "<html>\\(\\displaystyle \\mathrm{d}\\theta^2 = \\mathrm{d} r\\wedge \\mathrm{d} {\\theta}\\)</html>"
      ],
      "text/latex": [
       "$\\displaystyle \\mathrm{d}\\theta^2 = \\mathrm{d} r\\wedge \\mathrm{d} {\\theta}$"
      ],
      "text/plain": [
       "d\\theta^2 = dr∧dth"
      ]
     },
     "execution_count": 89,
     "metadata": {},
     "output_type": "execute_result"
    }
   ],
   "source": [
    "th2.exterior_derivative().display()"
   ]
  },
  {
   "cell_type": "code",
   "execution_count": 90,
   "id": "66d0f258",
   "metadata": {},
   "outputs": [
    {
     "data": {
      "text/html": [
       "<html>\\(\\displaystyle \\mathrm{d}\\theta^3 = \\sin\\left({\\theta}\\right) \\mathrm{d} r\\wedge \\mathrm{d} {\\phi} + r \\cos\\left({\\theta}\\right) \\mathrm{d} {\\theta}\\wedge \\mathrm{d} {\\phi}\\)</html>"
      ],
      "text/latex": [
       "$\\displaystyle \\mathrm{d}\\theta^3 = \\sin\\left({\\theta}\\right) \\mathrm{d} r\\wedge \\mathrm{d} {\\phi} + r \\cos\\left({\\theta}\\right) \\mathrm{d} {\\theta}\\wedge \\mathrm{d} {\\phi}$"
      ],
      "text/plain": [
       "d\\theta^3 = sin(th) dr∧dph + r*cos(th) dth∧dph"
      ]
     },
     "execution_count": 90,
     "metadata": {},
     "output_type": "execute_result"
    }
   ],
   "source": [
    "th3.exterior_derivative().display()"
   ]
  },
  {
   "cell_type": "markdown",
   "id": "3fed6981",
   "metadata": {},
   "source": [
    "## First Structure Equations"
   ]
  },
  {
   "cell_type": "markdown",
   "id": "894b280b",
   "metadata": {},
   "source": [
    "$$\\nabla_{\\hat{e}_c} \\hat{e}_b=\\Gamma_{c b}^a \\hat{e}_a$$"
   ]
  },
  {
   "cell_type": "markdown",
   "id": "c7448059",
   "metadata": {},
   "source": [
    "$$\\omega^a{ }_b=\\Gamma_{c b}^a \\hat{\\theta}^c$$"
   ]
  },
  {
   "cell_type": "markdown",
   "id": "5d77f676",
   "metadata": {},
   "source": [
    "$$\\mathrm{d} \\theta^i=\\theta^i \\circ \\tau^{\\nabla}+\\theta^j \\wedge \\omega_j^i$$"
   ]
  },
  {
   "cell_type": "markdown",
   "id": "7b9209c9",
   "metadata": {},
   "source": [
    "$$\\mathrm{d} \\theta = \\tau - \\omega \\wedge \\theta$$"
   ]
  },
  {
   "cell_type": "markdown",
   "id": "4e72544a",
   "metadata": {},
   "source": [
    "$$\\boldsymbol{Y}=\\theta^k(\\boldsymbol{Y}) \\boldsymbol{E}_k$$"
   ]
  },
  {
   "cell_type": "markdown",
   "id": "e26e6c9f",
   "metadata": {},
   "source": [
    "$$\\nabla_{\\boldsymbol{X}} \\boldsymbol{Y}=\\nabla_{\\boldsymbol{X}}\\left(\\theta^k(\\boldsymbol{Y}) \\boldsymbol{E}_k\\right)=\\boldsymbol{X}\\left(\\theta^k(\\boldsymbol{Y})\\right) \\boldsymbol{E}_k+\\theta^k(\\boldsymbol{Y}) \\omega_k^i(\\boldsymbol{X}) \\boldsymbol{E}_i$$"
   ]
  },
  {
   "cell_type": "markdown",
   "id": "1c2bdd52",
   "metadata": {},
   "source": [
    "$$\\boldsymbol{X}\\left(\\theta^i(\\boldsymbol{Y})\\right)=\\theta^i\\left(\\nabla_{\\boldsymbol{X}} \\boldsymbol{Y}\\right)-\\theta^j(\\boldsymbol{Y}) \\omega_j^i(\\boldsymbol{X})$$"
   ]
  },
  {
   "cell_type": "markdown",
   "id": "5167b35d",
   "metadata": {},
   "source": [
    "$$\n",
    "\\begin{aligned}\n",
    "\\mathrm{d} \\theta^i(\\boldsymbol{X}, \\boldsymbol{Y}) & =\\boldsymbol{X}\\left(\\theta^i(\\boldsymbol{Y})\\right)-\\boldsymbol{Y}\\left(\\theta^i(\\boldsymbol{X})\\right)-\\theta^i([\\boldsymbol{X}, \\boldsymbol{Y}]) \\\\\n",
    "& =\\theta^i\\left(\\nabla_{\\boldsymbol{X}} \\boldsymbol{Y}\\right)-\\theta^j(\\boldsymbol{Y}) \\omega_j^i(\\boldsymbol{X})-\\theta^i\\left(\\nabla_{\\boldsymbol{Y}} \\boldsymbol{X}\\right)+\\theta^j(\\boldsymbol{X}) \\omega_j^i(\\boldsymbol{Y})-\\theta^i([\\boldsymbol{X}, \\boldsymbol{Y}]) \\\\\n",
    "& =\\theta^i\\left(\\tau^{\\nabla}(\\boldsymbol{X}, \\boldsymbol{Y})\\right)+\\left(\\theta^j \\wedge \\omega_j^i\\right)(\\boldsymbol{X}, \\boldsymbol{Y})\n",
    "\\end{aligned}\n",
    "$$"
   ]
  },
  {
   "cell_type": "code",
   "execution_count": null,
   "id": "a95608d5",
   "metadata": {},
   "outputs": [],
   "source": []
  }
 ],
 "metadata": {
  "kernelspec": {
   "display_name": "SageMath 10.2",
   "language": "sage",
   "name": "sagemath-10.2"
  },
  "language_info": {
   "codemirror_mode": {
    "name": "ipython",
    "version": 3
   },
   "file_extension": ".py",
   "mimetype": "text/x-python",
   "name": "python",
   "nbconvert_exporter": "python",
   "pygments_lexer": "ipython3",
   "version": "3.11.1"
  }
 },
 "nbformat": 4,
 "nbformat_minor": 5
}
