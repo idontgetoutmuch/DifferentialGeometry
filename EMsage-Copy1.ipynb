{
 "cells": [
  {
   "cell_type": "markdown",
   "metadata": {},
   "source": [
    "# Electromagnetism"
   ]
  },
  {
   "cell_type": "code",
   "execution_count": 1,
   "metadata": {},
   "outputs": [],
   "source": [
    "%display latex"
   ]
  },
  {
   "cell_type": "code",
   "execution_count": 2,
   "metadata": {},
   "outputs": [],
   "source": [
    "M = Manifold(4,'M',r'M')\n",
    "cart_ch = M.chart('t x y z')"
   ]
  },
  {
   "cell_type": "markdown",
   "metadata": {},
   "source": [
    "Note the mostly positive (-+++) convention I use for the Minkowski metric."
   ]
  },
  {
   "cell_type": "code",
   "execution_count": 3,
   "metadata": {},
   "outputs": [],
   "source": [
    "g = M.lorentzian_metric('g')\n",
    "g[0,0] = -1 \n",
    "for i in range(1,4): g[i,i] = 1"
   ]
  },
  {
   "cell_type": "markdown",
   "metadata": {},
   "source": [
    "### Electric Field"
   ]
  },
  {
   "cell_type": "code",
   "execution_count": 4,
   "metadata": {},
   "outputs": [],
   "source": [
    "def make_E(ch):\n",
    "    \"\"\"\n",
    "    make_E = make_E(ch)\n",
    "    make_E creates a time-INDEPENDENT electric field as a 1-form\n",
    "    \n",
    "    INPUT/PARAMETER\n",
    "    ch = sagemanifold chart\n",
    "    \"\"\"\n",
    "    Ecomplst = []\n",
    "    for i in range(1,4):\n",
    "        Earglst = ['E'+str(i),] + list(ch[1:])\n",
    "        Ecomplst.append( function(Earglst[0])(*Earglst[1:]) )\n",
    "    Ecomplst = [0,]+Ecomplst\n",
    "    E = ch.domain().diff_form(1)\n",
    "    E[ch.frame(),:,ch] = Ecomplst\n",
    "    return E\n",
    "\n",
    "def make_Et(ch):\n",
    "    \"\"\"\n",
    "    make_Et = make_Et(ch)\n",
    "    make_Et creates a time-DEPENDENT electric field as a 1-form\n",
    "    \n",
    "    INPUT/PARAMETER\n",
    "    ch = sagemanifold chart\n",
    "    \"\"\"\n",
    "    Ecomplst = []\n",
    "    for i in range(1,4):\n",
    "        Earglst = ['E'+str(i),] + list(ch[:])\n",
    "        Ecomplst.append( function(Earglst[0])(*Earglst[1:]) )\n",
    "    Ecomplst = [0,]+Ecomplst\n",
    "    E = ch.domain().diff_form(1)\n",
    "    E[ch.frame(),:,ch] = Ecomplst\n",
    "    return E"
   ]
  },
  {
   "cell_type": "markdown",
   "metadata": {},
   "source": [
    "Examples of using `make_E`, `make_Et` and displaying the results"
   ]
  },
  {
   "cell_type": "code",
   "execution_count": 9,
   "metadata": {},
   "outputs": [
    {
     "data": {
      "text/html": [
       "<html>\\(\\displaystyle E_{1}\\left(x, y, z\\right) \\mathrm{d} x + E_{2}\\left(x, y, z\\right) \\mathrm{d} y + E_{3}\\left(x, y, z\\right) \\mathrm{d} z\\)</html>"
      ],
      "text/latex": [
       "$\\displaystyle E_{1}\\left(x, y, z\\right) \\mathrm{d} x + E_{2}\\left(x, y, z\\right) \\mathrm{d} y + E_{3}\\left(x, y, z\\right) \\mathrm{d} z$"
      ],
      "text/plain": [
       "E1(x, y, z) dx + E2(x, y, z) dy + E3(x, y, z) dz"
      ]
     },
     "execution_count": 9,
     "metadata": {},
     "output_type": "execute_result"
    }
   ],
   "source": [
    "make_E(cart_ch).display()"
   ]
  },
  {
   "cell_type": "markdown",
   "metadata": {},
   "source": [
    "### Magnetic Field"
   ]
  },
  {
   "cell_type": "markdown",
   "metadata": {},
   "source": [
    "Programming note: `make_B` and `make_Bt` "
   ]
  },
  {
   "cell_type": "code",
   "execution_count": 12,
   "metadata": {},
   "outputs": [],
   "source": [
    "def make_B(ch):\n",
    "    \"\"\"\n",
    "    make_B = make_B(ch)\n",
    "    make_B creates a time-INDEPENDENT magnetic field as a 2-form\n",
    "    \n",
    "    INPUT/PARAMETER\n",
    "    ch = sagemanifold chart\n",
    "    \"\"\"\n",
    "    B = ch.domain().diff_form(2)\n",
    "    farglst = list(ch[1:]) # function argument list, e.g. (x,y,z)\n",
    "\n",
    "    B[ch.frame(),1,2,ch] = function('B_z')(*farglst)\n",
    "    B[ch.frame(),2,3,ch] = function('B_x')(*farglst)\n",
    "    B[ch.frame(),3,1,ch] = function('B_y')(*farglst)\n",
    "\n",
    "    return B\n",
    "\n",
    "def make_Bt(ch):\n",
    "    \"\"\"\n",
    "    make_Bt = make_Bt(ch)\n",
    "    make_Bt creates a time-DEPENDENT electric field as a 2-form\n",
    "    \n",
    "    INPUT/PARAMETER\n",
    "    ch = sagemanifold chart\n",
    "    \"\"\"\n",
    "    B = ch.domain().diff_form(2)\n",
    "    farglst = list(ch[:]) # function argument list, e.g. (x,y,z)\n",
    "\n",
    "    B[ch.frame(),1,2,ch] = function('B_z')(*farglst)\n",
    "    B[ch.frame(),2,3,ch] = function('B_x')(*farglst)\n",
    "    B[ch.frame(),3,1,ch] = function('B_y')(*farglst)\n",
    "\n",
    "    return B"
   ]
  },
  {
   "cell_type": "code",
   "execution_count": 13,
   "metadata": {},
   "outputs": [
    {
     "data": {
      "text/html": [
       "<html>\\(\\displaystyle B_{z}\\left(t, x, y, z\\right) \\mathrm{d} x\\wedge \\mathrm{d} y -B_{y}\\left(t, x, y, z\\right) \\mathrm{d} x\\wedge \\mathrm{d} z + B_{x}\\left(t, x, y, z\\right) \\mathrm{d} y\\wedge \\mathrm{d} z\\)</html>"
      ],
      "text/latex": [
       "$\\displaystyle B_{z}\\left(t, x, y, z\\right) \\mathrm{d} x\\wedge \\mathrm{d} y -B_{y}\\left(t, x, y, z\\right) \\mathrm{d} x\\wedge \\mathrm{d} z + B_{x}\\left(t, x, y, z\\right) \\mathrm{d} y\\wedge \\mathrm{d} z$"
      ],
      "text/plain": [
       "B_z(t, x, y, z) dx∧dy - B_y(t, x, y, z) dx∧dz + B_x(t, x, y, z) dy∧dz"
      ]
     },
     "execution_count": 13,
     "metadata": {},
     "output_type": "execute_result"
    }
   ],
   "source": [
    "make_Bt(cart_ch).display()"
   ]
  },
  {
   "cell_type": "markdown",
   "metadata": {},
   "source": [
    "Notice that the orientation is correct (with the right hand rule)."
   ]
  },
  {
   "cell_type": "markdown",
   "metadata": {},
   "source": [
    "## Electromagnetic field 2-form"
   ]
  },
  {
   "cell_type": "code",
   "execution_count": 39,
   "metadata": {},
   "outputs": [
    {
     "data": {
      "text/html": [
       "<html>\\(\\displaystyle -E_{1}\\left(t, x, y, z\\right) \\mathrm{d} t\\wedge \\mathrm{d} x -E_{2}\\left(t, x, y, z\\right) \\mathrm{d} t\\wedge \\mathrm{d} y -E_{3}\\left(t, x, y, z\\right) \\mathrm{d} t\\wedge \\mathrm{d} z + B_{z}\\left(t, x, y, z\\right) \\mathrm{d} x\\wedge \\mathrm{d} y -B_{y}\\left(t, x, y, z\\right) \\mathrm{d} x\\wedge \\mathrm{d} z + B_{x}\\left(t, x, y, z\\right) \\mathrm{d} y\\wedge \\mathrm{d} z\\)</html>"
      ],
      "text/latex": [
       "$\\displaystyle -E_{1}\\left(t, x, y, z\\right) \\mathrm{d} t\\wedge \\mathrm{d} x -E_{2}\\left(t, x, y, z\\right) \\mathrm{d} t\\wedge \\mathrm{d} y -E_{3}\\left(t, x, y, z\\right) \\mathrm{d} t\\wedge \\mathrm{d} z + B_{z}\\left(t, x, y, z\\right) \\mathrm{d} x\\wedge \\mathrm{d} y -B_{y}\\left(t, x, y, z\\right) \\mathrm{d} x\\wedge \\mathrm{d} z + B_{x}\\left(t, x, y, z\\right) \\mathrm{d} y\\wedge \\mathrm{d} z$"
      ],
      "text/plain": [
       "-E1(t, x, y, z) dt∧dx - E2(t, x, y, z) dt∧dy - E3(t, x, y, z) dt∧dz + B_z(t, x, y, z) dx∧dy - B_y(t, x, y, z) dx∧dz + B_x(t, x, y, z) dy∧dz"
      ]
     },
     "execution_count": 39,
     "metadata": {},
     "output_type": "execute_result"
    }
   ],
   "source": [
    "EM_F = make_Bt(cart_ch) + make_Et(cart_ch).wedge(cart_ch.coframe()[0])\n",
    "EM_F.display()"
   ]
  },
  {
   "cell_type": "code",
   "execution_count": 15,
   "metadata": {},
   "outputs": [
    {
     "data": {
      "text/html": [
       "<html>\\(\\displaystyle \\left(\\begin{array}{rrrr}\n",
       "0 & -E_{1}\\left(t, x, y, z\\right) & -E_{2}\\left(t, x, y, z\\right) & -E_{3}\\left(t, x, y, z\\right) \\\\\n",
       "E_{1}\\left(t, x, y, z\\right) & 0 & B_{z}\\left(t, x, y, z\\right) & -B_{y}\\left(t, x, y, z\\right) \\\\\n",
       "E_{2}\\left(t, x, y, z\\right) & -B_{z}\\left(t, x, y, z\\right) & 0 & B_{x}\\left(t, x, y, z\\right) \\\\\n",
       "E_{3}\\left(t, x, y, z\\right) & B_{y}\\left(t, x, y, z\\right) & -B_{x}\\left(t, x, y, z\\right) & 0\n",
       "\\end{array}\\right)\\)</html>"
      ],
      "text/latex": [
       "$\\displaystyle \\left(\\begin{array}{rrrr}\n",
       "0 & -E_{1}\\left(t, x, y, z\\right) & -E_{2}\\left(t, x, y, z\\right) & -E_{3}\\left(t, x, y, z\\right) \\\\\n",
       "E_{1}\\left(t, x, y, z\\right) & 0 & B_{z}\\left(t, x, y, z\\right) & -B_{y}\\left(t, x, y, z\\right) \\\\\n",
       "E_{2}\\left(t, x, y, z\\right) & -B_{z}\\left(t, x, y, z\\right) & 0 & B_{x}\\left(t, x, y, z\\right) \\\\\n",
       "E_{3}\\left(t, x, y, z\\right) & B_{y}\\left(t, x, y, z\\right) & -B_{x}\\left(t, x, y, z\\right) & 0\n",
       "\\end{array}\\right)$"
      ],
      "text/plain": [
       "[               0  -E1(t, x, y, z)  -E2(t, x, y, z)  -E3(t, x, y, z)]\n",
       "[  E1(t, x, y, z)                0  B_z(t, x, y, z) -B_y(t, x, y, z)]\n",
       "[  E2(t, x, y, z) -B_z(t, x, y, z)                0  B_x(t, x, y, z)]\n",
       "[  E3(t, x, y, z)  B_y(t, x, y, z) -B_x(t, x, y, z)                0]"
      ]
     },
     "execution_count": 15,
     "metadata": {},
     "output_type": "execute_result"
    }
   ],
   "source": [
    "EM_F[:]"
   ]
  },
  {
   "cell_type": "code",
   "execution_count": 26,
   "metadata": {},
   "outputs": [
    {
     "data": {
      "text/html": [
       "<html>\\(\\displaystyle \\left( \\frac{\\partial\\,B_{z}}{\\partial t} - \\frac{\\partial\\,E_{1}}{\\partial y} + \\frac{\\partial\\,E_{2}}{\\partial x} \\right) \\mathrm{d} t\\wedge \\mathrm{d} x\\wedge \\mathrm{d} y + \\left( -\\frac{\\partial\\,B_{y}}{\\partial t} - \\frac{\\partial\\,E_{1}}{\\partial z} + \\frac{\\partial\\,E_{3}}{\\partial x} \\right) \\mathrm{d} t\\wedge \\mathrm{d} x\\wedge \\mathrm{d} z + \\left( \\frac{\\partial\\,B_{x}}{\\partial t} - \\frac{\\partial\\,E_{2}}{\\partial z} + \\frac{\\partial\\,E_{3}}{\\partial y} \\right) \\mathrm{d} t\\wedge \\mathrm{d} y\\wedge \\mathrm{d} z + \\left( \\frac{\\partial\\,B_{x}}{\\partial x} + \\frac{\\partial\\,B_{y}}{\\partial y} + \\frac{\\partial\\,B_{z}}{\\partial z} \\right) \\mathrm{d} x\\wedge \\mathrm{d} y\\wedge \\mathrm{d} z\\)</html>"
      ],
      "text/latex": [
       "$\\displaystyle \\left( \\frac{\\partial\\,B_{z}}{\\partial t} - \\frac{\\partial\\,E_{1}}{\\partial y} + \\frac{\\partial\\,E_{2}}{\\partial x} \\right) \\mathrm{d} t\\wedge \\mathrm{d} x\\wedge \\mathrm{d} y + \\left( -\\frac{\\partial\\,B_{y}}{\\partial t} - \\frac{\\partial\\,E_{1}}{\\partial z} + \\frac{\\partial\\,E_{3}}{\\partial x} \\right) \\mathrm{d} t\\wedge \\mathrm{d} x\\wedge \\mathrm{d} z + \\left( \\frac{\\partial\\,B_{x}}{\\partial t} - \\frac{\\partial\\,E_{2}}{\\partial z} + \\frac{\\partial\\,E_{3}}{\\partial y} \\right) \\mathrm{d} t\\wedge \\mathrm{d} y\\wedge \\mathrm{d} z + \\left( \\frac{\\partial\\,B_{x}}{\\partial x} + \\frac{\\partial\\,B_{y}}{\\partial y} + \\frac{\\partial\\,B_{z}}{\\partial z} \\right) \\mathrm{d} x\\wedge \\mathrm{d} y\\wedge \\mathrm{d} z$"
      ],
      "text/plain": [
       "(d(B_z)/dt - d(E1)/dy + d(E2)/dx) dt∧dx∧dy + (-d(B_y)/dt - d(E1)/dz + d(E3)/dx) dt∧dx∧dz + (d(B_x)/dt - d(E2)/dz + d(E3)/dy) dt∧dy∧dz + (d(B_x)/dx + d(B_y)/dy + d(B_z)/dz) dx∧dy∧dz"
      ]
     },
     "execution_count": 26,
     "metadata": {},
     "output_type": "execute_result"
    }
   ],
   "source": [
    "EM_F.exterior_derivative().display()"
   ]
  },
  {
   "cell_type": "code",
   "execution_count": 30,
   "metadata": {},
   "outputs": [
    {
     "data": {
      "text/html": [
       "<html>\\(\\displaystyle \\left( -\\frac{\\partial\\,B_{x}}{\\partial x} - \\frac{\\partial\\,B_{y}}{\\partial y} - \\frac{\\partial\\,B_{z}}{\\partial z} \\right) \\mathrm{d} t + \\left( -\\frac{\\partial\\,B_{x}}{\\partial t} + \\frac{\\partial\\,E_{2}}{\\partial z} - \\frac{\\partial\\,E_{3}}{\\partial y} \\right) \\mathrm{d} x + \\left( -\\frac{\\partial\\,B_{y}}{\\partial t} - \\frac{\\partial\\,E_{1}}{\\partial z} + \\frac{\\partial\\,E_{3}}{\\partial x} \\right) \\mathrm{d} y + \\left( -\\frac{\\partial\\,B_{z}}{\\partial t} + \\frac{\\partial\\,E_{1}}{\\partial y} - \\frac{\\partial\\,E_{2}}{\\partial x} \\right) \\mathrm{d} z\\)</html>"
      ],
      "text/latex": [
       "$\\displaystyle \\left( -\\frac{\\partial\\,B_{x}}{\\partial x} - \\frac{\\partial\\,B_{y}}{\\partial y} - \\frac{\\partial\\,B_{z}}{\\partial z} \\right) \\mathrm{d} t + \\left( -\\frac{\\partial\\,B_{x}}{\\partial t} + \\frac{\\partial\\,E_{2}}{\\partial z} - \\frac{\\partial\\,E_{3}}{\\partial y} \\right) \\mathrm{d} x + \\left( -\\frac{\\partial\\,B_{y}}{\\partial t} - \\frac{\\partial\\,E_{1}}{\\partial z} + \\frac{\\partial\\,E_{3}}{\\partial x} \\right) \\mathrm{d} y + \\left( -\\frac{\\partial\\,B_{z}}{\\partial t} + \\frac{\\partial\\,E_{1}}{\\partial y} - \\frac{\\partial\\,E_{2}}{\\partial x} \\right) \\mathrm{d} z$"
      ],
      "text/plain": [
       "(-d(B_x)/dx - d(B_y)/dy - d(B_z)/dz) dt + (-d(B_x)/dt + d(E2)/dz - d(E3)/dy) dx + (-d(B_y)/dt - d(E1)/dz + d(E3)/dx) dy + (-d(B_z)/dt + d(E1)/dy - d(E2)/dx) dz"
      ]
     },
     "execution_count": 30,
     "metadata": {},
     "output_type": "execute_result"
    }
   ],
   "source": [
    "EM_F.exterior_derivative().hodge_dual(g).display()"
   ]
  },
  {
   "cell_type": "markdown",
   "metadata": {},
   "source": [
    "Which is equivalent to $\\mathbf{\\nabla} \\centerdot \\mathbf{B} = 0$ and $\\mathbf{\\nabla} \\times \\mathbf{E} + \\dot{\\mathbf{B}} = 0$, two of Maxwell's equations provided we take $\\mathrm{d}\\mathbf{F} = 0$."
   ]
  },
  {
   "cell_type": "code",
   "execution_count": 31,
   "metadata": {},
   "outputs": [],
   "source": [
    "def make_J(ch):\n",
    "    \"\"\"\n",
    "    make_J = make_J(ch)\n",
    "    make_J creates a time-INDEPENDENT current as a 1-form\n",
    "    \n",
    "    INPUT/PARAMETER\n",
    "    ch = sagemanifold chart\n",
    "    \"\"\"\n",
    "    Jcomplst = []\n",
    "    for i in range(1,4):\n",
    "        Jarglst = ['j'+str(i),] + list(ch[1:])\n",
    "        Jcomplst.append( function(Jarglst[0])(*Jarglst[1:]) )\n",
    "    Jcomplst = [-function('rho')(*list(ch[1:])),] +Jcomplst\n",
    "    J = ch.domain().diff_form(1)\n",
    "    J[ch.frame(),:,ch] = Jcomplst\n",
    "    return J\n",
    "\n",
    "\n",
    "def make_Jt(ch):\n",
    "    \"\"\"\n",
    "    make_Jt = make_Jt(ch)\n",
    "    make_Jt creates a time-DEPENDENT current as a 1-form\n",
    "    \n",
    "    INPUT/PARAMETER\n",
    "    ch = sagemanifold chart\n",
    "    \"\"\"\n",
    "    Jcomplst = []\n",
    "    for i in range(1,4):\n",
    "        Jarglst = ['j'+str(i),] + list(ch[:])\n",
    "        Jcomplst.append( function(Jarglst[0])(*Jarglst[1:]) )\n",
    "    Jcomplst = [-function('rho')(*list(ch[:])),]+Jcomplst\n",
    "    J = ch.domain().diff_form(1)\n",
    "    J[ch.frame(),:,ch] = Jcomplst\n",
    "    return J\n",
    "    "
   ]
  },
  {
   "cell_type": "code",
   "execution_count": 32,
   "metadata": {},
   "outputs": [
    {
     "data": {
      "text/html": [
       "<html>\\(\\displaystyle -\\rho\\left(t, x, y, z\\right) \\mathrm{d} t + j_{1}\\left(t, x, y, z\\right) \\mathrm{d} x + j_{2}\\left(t, x, y, z\\right) \\mathrm{d} y + j_{3}\\left(t, x, y, z\\right) \\mathrm{d} z\\)</html>"
      ],
      "text/latex": [
       "$\\displaystyle -\\rho\\left(t, x, y, z\\right) \\mathrm{d} t + j_{1}\\left(t, x, y, z\\right) \\mathrm{d} x + j_{2}\\left(t, x, y, z\\right) \\mathrm{d} y + j_{3}\\left(t, x, y, z\\right) \\mathrm{d} z$"
      ],
      "text/plain": [
       "-rho(t, x, y, z) dt + j1(t, x, y, z) dx + j2(t, x, y, z) dy + j3(t, x, y, z) dz"
      ]
     },
     "execution_count": 32,
     "metadata": {},
     "output_type": "execute_result"
    }
   ],
   "source": [
    "make_Jt(cart_ch).display()"
   ]
  },
  {
   "cell_type": "code",
   "execution_count": 33,
   "metadata": {},
   "outputs": [
    {
     "data": {
      "text/html": [
       "<html>\\(\\displaystyle -\\rho\\left(t, x, y, z\\right) \\mathrm{d} t + j_{1}\\left(t, x, y, z\\right) \\mathrm{d} x + j_{2}\\left(t, x, y, z\\right) \\mathrm{d} y + j_{3}\\left(t, x, y, z\\right) \\mathrm{d} z\\)</html>"
      ],
      "text/latex": [
       "$\\displaystyle -\\rho\\left(t, x, y, z\\right) \\mathrm{d} t + j_{1}\\left(t, x, y, z\\right) \\mathrm{d} x + j_{2}\\left(t, x, y, z\\right) \\mathrm{d} y + j_{3}\\left(t, x, y, z\\right) \\mathrm{d} z$"
      ],
      "text/plain": [
       "-rho(t, x, y, z) dt + j1(t, x, y, z) dx + j2(t, x, y, z) dy + j3(t, x, y, z) dz"
      ]
     },
     "execution_count": 33,
     "metadata": {},
     "output_type": "execute_result"
    }
   ],
   "source": [
    "make_Jt(cart_ch).hodge_dual(g).hodge_dual(g).display()"
   ]
  },
  {
   "cell_type": "code",
   "execution_count": 34,
   "metadata": {},
   "outputs": [
    {
     "data": {
      "text/html": [
       "<html>\\(\\displaystyle -j_{3}\\left(t, x, y, z\\right) \\mathrm{d} t\\wedge \\mathrm{d} x\\wedge \\mathrm{d} y + j_{2}\\left(t, x, y, z\\right) \\mathrm{d} t\\wedge \\mathrm{d} x\\wedge \\mathrm{d} z -j_{1}\\left(t, x, y, z\\right) \\mathrm{d} t\\wedge \\mathrm{d} y\\wedge \\mathrm{d} z + \\rho\\left(t, x, y, z\\right) \\mathrm{d} x\\wedge \\mathrm{d} y\\wedge \\mathrm{d} z\\)</html>"
      ],
      "text/latex": [
       "$\\displaystyle -j_{3}\\left(t, x, y, z\\right) \\mathrm{d} t\\wedge \\mathrm{d} x\\wedge \\mathrm{d} y + j_{2}\\left(t, x, y, z\\right) \\mathrm{d} t\\wedge \\mathrm{d} x\\wedge \\mathrm{d} z -j_{1}\\left(t, x, y, z\\right) \\mathrm{d} t\\wedge \\mathrm{d} y\\wedge \\mathrm{d} z + \\rho\\left(t, x, y, z\\right) \\mathrm{d} x\\wedge \\mathrm{d} y\\wedge \\mathrm{d} z$"
      ],
      "text/plain": [
       "-j3(t, x, y, z) dt∧dx∧dy + j2(t, x, y, z) dt∧dx∧dz - j1(t, x, y, z) dt∧dy∧dz + rho(t, x, y, z) dx∧dy∧dz"
      ]
     },
     "execution_count": 34,
     "metadata": {},
     "output_type": "execute_result"
    }
   ],
   "source": [
    "make_Jt(cart_ch).hodge_dual(g).display()"
   ]
  },
  {
   "cell_type": "code",
   "execution_count": 35,
   "metadata": {},
   "outputs": [
    {
     "data": {
      "text/html": [
       "<html>\\(\\displaystyle \\left( \\frac{\\partial\\,B_{x}}{\\partial y} - \\frac{\\partial\\,B_{y}}{\\partial x} + \\frac{\\partial\\,E_{3}}{\\partial t} \\right) \\mathrm{d} t\\wedge \\mathrm{d} x\\wedge \\mathrm{d} y + \\left( \\frac{\\partial\\,B_{x}}{\\partial z} - \\frac{\\partial\\,B_{z}}{\\partial x} - \\frac{\\partial\\,E_{2}}{\\partial t} \\right) \\mathrm{d} t\\wedge \\mathrm{d} x\\wedge \\mathrm{d} z + \\left( \\frac{\\partial\\,B_{y}}{\\partial z} - \\frac{\\partial\\,B_{z}}{\\partial y} + \\frac{\\partial\\,E_{1}}{\\partial t} \\right) \\mathrm{d} t\\wedge \\mathrm{d} y\\wedge \\mathrm{d} z + \\left( \\frac{\\partial\\,E_{1}}{\\partial x} + \\frac{\\partial\\,E_{2}}{\\partial y} + \\frac{\\partial\\,E_{3}}{\\partial z} \\right) \\mathrm{d} x\\wedge \\mathrm{d} y\\wedge \\mathrm{d} z\\)</html>"
      ],
      "text/latex": [
       "$\\displaystyle \\left( \\frac{\\partial\\,B_{x}}{\\partial y} - \\frac{\\partial\\,B_{y}}{\\partial x} + \\frac{\\partial\\,E_{3}}{\\partial t} \\right) \\mathrm{d} t\\wedge \\mathrm{d} x\\wedge \\mathrm{d} y + \\left( \\frac{\\partial\\,B_{x}}{\\partial z} - \\frac{\\partial\\,B_{z}}{\\partial x} - \\frac{\\partial\\,E_{2}}{\\partial t} \\right) \\mathrm{d} t\\wedge \\mathrm{d} x\\wedge \\mathrm{d} z + \\left( \\frac{\\partial\\,B_{y}}{\\partial z} - \\frac{\\partial\\,B_{z}}{\\partial y} + \\frac{\\partial\\,E_{1}}{\\partial t} \\right) \\mathrm{d} t\\wedge \\mathrm{d} y\\wedge \\mathrm{d} z + \\left( \\frac{\\partial\\,E_{1}}{\\partial x} + \\frac{\\partial\\,E_{2}}{\\partial y} + \\frac{\\partial\\,E_{3}}{\\partial z} \\right) \\mathrm{d} x\\wedge \\mathrm{d} y\\wedge \\mathrm{d} z$"
      ],
      "text/plain": [
       "(d(B_x)/dy - d(B_y)/dx + d(E3)/dt) dt∧dx∧dy + (d(B_x)/dz - d(B_z)/dx - d(E2)/dt) dt∧dx∧dz + (d(B_y)/dz - d(B_z)/dy + d(E1)/dt) dt∧dy∧dz + (d(E1)/dx + d(E2)/dy + d(E3)/dz) dx∧dy∧dz"
      ]
     },
     "execution_count": 35,
     "metadata": {},
     "output_type": "execute_result"
    }
   ],
   "source": [
    "EM_F.hodge_dual(g).exterior_derivative().display()"
   ]
  },
  {
   "cell_type": "markdown",
   "metadata": {},
   "source": [
    "which is equivalent to $\\mathbf{\\nabla} \\centerdot \\mathbf{E} = 4\\pi\\rho$ and $\\mathbf{\\nabla} \\times \\mathbf{B} - \\dot{\\mathbf{E}} = \\mathbf{j} = (j_1, j_2, j_3)$, the remaining two of Maxwell's equations provided that $\\mathrm{d}\\star\\mathbf{F} = 4\\pi\\star\\mathbf{J}$"
   ]
  }
 ],
 "metadata": {
  "kernelspec": {
   "display_name": "SageMath 10.1",
   "language": "sage",
   "name": "sagemath"
  },
  "language_info": {
   "codemirror_mode": {
    "name": "ipython",
    "version": 3
   },
   "file_extension": ".py",
   "mimetype": "text/x-python",
   "name": "python",
   "nbconvert_exporter": "python",
   "pygments_lexer": "ipython3",
   "version": "3.11.1"
  }
 },
 "nbformat": 4,
 "nbformat_minor": 1
}
